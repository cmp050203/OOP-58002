{
  "nbformat": 4,
  "nbformat_minor": 0,
  "metadata": {
    "colab": {
      "name": "OOP Concept in Python.ipynb",
      "provenance": [],
      "authorship_tag": "ABX9TyMke0r7ZEtDHyqe5tHRgk9a",
      "include_colab_link": true
    },
    "kernelspec": {
      "name": "python3",
      "display_name": "Python 3"
    },
    "language_info": {
      "name": "python"
    }
  },
  "cells": [
    {
      "cell_type": "markdown",
      "metadata": {
        "id": "view-in-github",
        "colab_type": "text"
      },
      "source": [
        "<a href=\"https://colab.research.google.com/github/cmp050203/OOP-58002/blob/main/OOP_Concept_in_Python.ipynb\" target=\"_parent\"><img src=\"https://colab.research.google.com/assets/colab-badge.svg\" alt=\"Open In Colab\"/></a>"
      ]
    },
    {
      "cell_type": "markdown",
      "source": [
        "Create a Class\n",
        "\n"
      ],
      "metadata": {
        "id": "AMDI5QY-Hkmz"
      }
    },
    {
      "cell_type": "code",
      "execution_count": null,
      "metadata": {
        "id": "7EWJENDJHjtE"
      },
      "outputs": [],
      "source": [
        "class Car:\n",
        "  pass"
      ]
    },
    {
      "cell_type": "code",
      "source": [
        "obj1=Car\n",
        "print(obj1)"
      ],
      "metadata": {
        "colab": {
          "base_uri": "https://localhost:8080/"
        },
        "id": "qRT7C3waIFu_",
        "outputId": "1743495e-f39c-40bf-91ef-3f22f587df29"
      },
      "execution_count": null,
      "outputs": [
        {
          "output_type": "stream",
          "name": "stdout",
          "text": [
            "<class '__main__.Car'>\n"
          ]
        }
      ]
    },
    {
      "cell_type": "markdown",
      "source": [
        "Object Methods"
      ],
      "metadata": {
        "id": "KTjtcUhukLGW"
      }
    },
    {
      "cell_type": "code",
      "source": [
        "class Person:\n",
        "  def __init__(self,name,age):\n",
        "    self.name = name\n",
        "    self.age = age\n",
        "  def myFunction(self):\n",
        "      print(\"Hello my name is\",self.name)\n",
        "      print(\"I am\",self.age)\n",
        "\n",
        "      p1=Person(\"Charry\",18)\n",
        "      p1.myFunction()"
      ],
      "metadata": {
        "id": "ymqdbqIWPCXa"
      },
      "execution_count": 4,
      "outputs": []
    },
    {
      "cell_type": "markdown",
      "source": [
        "Create an Object"
      ],
      "metadata": {
        "id": "C9ClRIonkthE"
      }
    },
    {
      "cell_type": "code",
      "source": [
        "class Car:\n",
        "  def __init__(self,name, color):   # all classes have function called __init__\n",
        "    self.name = name                    # attribute names of class named Car\n",
        "    self.color = color\n",
        "  \n",
        "  def decription(self):\n",
        "    return \"The\" + self.name +\"has a color\" + self.color\n",
        "  \n",
        "  def show(self):\n",
        "    print(\"The\"+\"  \"+self.name+\" \" + \"has a color\"+\" \"+self.color)\n",
        "\n",
        "\n",
        "car1 = Car(\"Honda City\",\"red\")\n",
        "car1.show()"
      ],
      "metadata": {
        "colab": {
          "base_uri": "https://localhost:8080/"
        },
        "id": "lEBbBq7SkuZc",
        "outputId": "7792bc58-2630-4996-d423-f39b6ca38030"
      },
      "execution_count": 5,
      "outputs": [
        {
          "output_type": "stream",
          "name": "stdout",
          "text": [
            "The  Honda City has a color red\n"
          ]
        }
      ]
    },
    {
      "cell_type": "markdown",
      "source": [
        "Modify an Object Property"
      ],
      "metadata": {
        "id": "tpT8Z0-ck3-i"
      }
    },
    {
      "cell_type": "code",
      "source": [
        "car1.name = \"Mitsubishi\"\n",
        "print(car1.name)\n",
        "\n",
        "car1.color = \"blue\"\n",
        "print(car1.color)"
      ],
      "metadata": {
        "colab": {
          "base_uri": "https://localhost:8080/"
        },
        "id": "hEoi96a1k4jb",
        "outputId": "81dd769c-6697-4d0f-f336-b2d18bbc8cff"
      },
      "execution_count": 6,
      "outputs": [
        {
          "output_type": "stream",
          "name": "stdout",
          "text": [
            "Mitsubishi\n",
            "blue\n"
          ]
        }
      ]
    },
    {
      "cell_type": "code",
      "source": [
        "car1.show()"
      ],
      "metadata": {
        "colab": {
          "base_uri": "https://localhost:8080/"
        },
        "id": "9cgU_vc3lAmC",
        "outputId": "15e0b8fa-19f1-4747-da89-7599ec9a9267"
      },
      "execution_count": 7,
      "outputs": [
        {
          "output_type": "stream",
          "name": "stdout",
          "text": [
            "The  Mitsubishi has a color blue\n"
          ]
        }
      ]
    },
    {
      "cell_type": "markdown",
      "source": [
        "Application 1 - Write a Python program that computes for the Area and Perimeter of a Square, and create a class name Square with side as its attribute"
      ],
      "metadata": {
        "id": "sbiFr18jlUAq"
      }
    },
    {
      "cell_type": "code",
      "source": [
        "#Area of a Square = s*s\n",
        "#Perimeter of a Square = 4*s = s+s+s+s\n",
        "\n",
        "class Square:\n",
        "  def __init__(self,side):\n",
        "    self.side = side\n",
        "\n",
        "  def Area(self):\n",
        "    return self.side*self.side\n",
        "\n",
        "  def Perimeter(self):\n",
        "    return 4*(self.side)\n",
        "\n",
        "  def display(self):\n",
        "    print(\"The area of a square is\",self.Area())\n",
        "    print(\"The perimeter of a square is\",self.Perimeter())\n",
        "\n",
        "sq1 = Square(2)\n",
        "sq1.display()"
      ],
      "metadata": {
        "colab": {
          "base_uri": "https://localhost:8080/"
        },
        "id": "VSVrQsFTl9wq",
        "outputId": "dff376df-e912-4ca9-b28a-6825fa7c9762"
      },
      "execution_count": 9,
      "outputs": [
        {
          "output_type": "stream",
          "name": "stdout",
          "text": [
            "The area of a square is 4\n",
            "The perimeter of a square is 8\n"
          ]
        }
      ]
    },
    {
      "cell_type": "markdown",
      "source": [
        "Application 2 - Write a Python program that displays your student no. and fullname(Surname,First Name MI) and create a class name OOP_58002"
      ],
      "metadata": {
        "id": "91pVceA2mDwK"
      }
    },
    {
      "cell_type": "code",
      "source": [
        "class Person:\n",
        " def __init__(self,student,number):\n",
        "  self.student = student\n",
        "  self.number = number\n",
        "\n",
        " def myFunction(self):\n",
        "  print(\"I am\",self.student,\"and my student number is\", self.number)\n",
        "  print(\"Section - OOP_58002\")\n",
        "\n",
        "\n",
        "p1= Person(\"Panaga, Charry Mae M\", 202116311)\n",
        "p1.myFunction()"
      ],
      "metadata": {
        "colab": {
          "base_uri": "https://localhost:8080/"
        },
        "id": "iBI-lWU8mFn6",
        "outputId": "9523c80b-f74e-4caf-8b48-93cbfab440a5"
      },
      "execution_count": 10,
      "outputs": [
        {
          "output_type": "stream",
          "name": "stdout",
          "text": [
            "I am Panaga, Charry Mae M and my student number is 202116311\n",
            "Section - OOP_58002\n"
          ]
        }
      ]
    }
  ]
}