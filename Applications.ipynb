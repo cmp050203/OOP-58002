{
  "nbformat": 4,
  "nbformat_minor": 0,
  "metadata": {
    "colab": {
      "name": "Applications.ipynb",
      "provenance": [],
      "authorship_tag": "ABX9TyODwN3PoC5f92dw6lohTb8p",
      "include_colab_link": true
    },
    "kernelspec": {
      "name": "python3",
      "display_name": "Python 3"
    },
    "language_info": {
      "name": "python"
    }
  },
  "cells": [
    {
      "cell_type": "markdown",
      "metadata": {
        "id": "view-in-github",
        "colab_type": "text"
      },
      "source": [
        "<a href=\"https://colab.research.google.com/github/cmp050203/OOP-58002/blob/main/Applications.ipynb\" target=\"_parent\"><img src=\"https://colab.research.google.com/assets/colab-badge.svg\" alt=\"Open In Colab\"/></a>"
      ]
    },
    {
      "cell_type": "markdown",
      "source": [
        "application 1"
      ],
      "metadata": {
        "id": "_QwTo4EXQmfz"
      }
    },
    {
      "cell_type": "code",
      "execution_count": null,
      "metadata": {
        "colab": {
          "base_uri": "https://localhost:8080/"
        },
        "id": "J0u5cNRiK2WV",
        "outputId": "0caa26aa-5f61-4c64-9ce0-b9b1abd981a9"
      },
      "outputs": [
        {
          "output_type": "stream",
          "name": "stdout",
          "text": [
            "False\n",
            "True\n"
          ]
        }
      ],
      "source": [
        "a=6\n",
        "b=7\n",
        "print(a==b)\n",
        "print(a!=b)\n"
      ]
    },
    {
      "cell_type": "markdown",
      "source": [
        "application 2"
      ],
      "metadata": {
        "id": "UEJ82vkhQgZX"
      }
    },
    {
      "cell_type": "code",
      "source": [
        "#Python Assignment Operators "
      ],
      "metadata": {
        "id": "2l2ZJ9Z4SSA_"
      },
      "execution_count": null,
      "outputs": []
    },
    {
      "cell_type": "code",
      "source": [
        "x=100\n",
        "x+=3#Same us x=x+3, x=100+3=103\n",
        "print(x)"
      ],
      "metadata": {
        "colab": {
          "base_uri": "https://localhost:8080/"
        },
        "id": "VWaTPGvAQlq5",
        "outputId": "d9e10911-507f-467d-fb84-c5a76dcf184e"
      },
      "execution_count": null,
      "outputs": [
        {
          "output_type": "stream",
          "name": "stdout",
          "text": [
            "103\n"
          ]
        }
      ]
    },
    {
      "cell_type": "markdown",
      "source": [
        "application 3 - Create a python program \n"
      ],
      "metadata": {
        "id": "un5TKQ-cTwSu"
      }
    },
    {
      "cell_type": "code",
      "source": [
        "i=3\n",
        "while i<6:\n",
        " print(i)\n",
        " i+=3 #same as i+3\n",
        " break\n"
      ],
      "metadata": {
        "colab": {
          "base_uri": "https://localhost:8080/"
        },
        "id": "H8FS6yQug9PI",
        "outputId": "ca2042c9-a783-429d-a0e1-3a0dfe7f16ba"
      },
      "execution_count": 27,
      "outputs": [
        {
          "output_type": "stream",
          "name": "stdout",
          "text": [
            "3\n"
          ]
        }
      ]
    }
  ]
}