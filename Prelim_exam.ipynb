{
  "nbformat": 4,
  "nbformat_minor": 0,
  "metadata": {
    "colab": {
      "name": "Prelim exam.ipynb",
      "provenance": [],
      "authorship_tag": "ABX9TyOymUu2MJzzrwAOCpiLiALj",
      "include_colab_link": true
    },
    "kernelspec": {
      "name": "python3",
      "display_name": "Python 3"
    },
    "language_info": {
      "name": "python"
    }
  },
  "cells": [
    {
      "cell_type": "markdown",
      "metadata": {
        "id": "view-in-github",
        "colab_type": "text"
      },
      "source": [
        "<a href=\"https://colab.research.google.com/github/cmp050203/OOP-58002/blob/main/Prelim_exam.ipynb\" target=\"_parent\"><img src=\"https://colab.research.google.com/assets/colab-badge.svg\" alt=\"Open In Colab\"/></a>"
      ]
    },
    {
      "cell_type": "code",
      "execution_count": 5,
      "metadata": {
        "colab": {
          "base_uri": "https://localhost:8080/"
        },
        "id": "4n3L7i95FBcE",
        "outputId": "ee27bfde-ca98-47ec-8bad-c01877008972"
      },
      "outputs": [
        {
          "output_type": "stream",
          "name": "stdout",
          "text": [
            "My name is Panaga, Charry Mae M and my student number is 202116311 I am 18 I study at Adamson University taking Computer Engineering\n",
            "Section - OOP_58002\n"
          ]
        }
      ],
      "source": [
        "class Person:\n",
        " def __init__(self,student,number,age,school,course):\n",
        "  self.student = student\n",
        "  self.number = number\n",
        "  self.age = age\n",
        "  self.school = school\n",
        "  self.course = course\n",
        "\n",
        " def myFunction(self):\n",
        "  print(\"My name is\",self.student,\"and my student number is\", self.number,\"I am\",self.age, \"I study at\", self.school, \"taking\", self.course)\n",
        "  print(\"Section - OOP_58002\")\n",
        "\n",
        "\n",
        "p1= Person(\"Panaga, Charry Mae M\", 202116311, 18, \"Adamson University\", \"Computer Engineering\")\n",
        "p1.myFunction()"
      ]
    }
  ]
}